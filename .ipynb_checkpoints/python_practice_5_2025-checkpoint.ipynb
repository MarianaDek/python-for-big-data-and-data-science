{
 "cells": [
  {
   "cell_type": "markdown",
   "metadata": {
    "id": "5qV_sehzFCTp"
   },
   "source": [
    "# I. OOP"
   ]
  },
  {
   "cell_type": "markdown",
   "metadata": {
    "id": "tx_U_hOALyfg"
   },
   "source": [
    "1. (6б). Створіть клас Building, додайте три атрибути, один з яких має значення за замовчуванням та два методи на свій розсуд."
   ]
  },
  {
   "cell_type": "code",
   "execution_count": 1,
   "metadata": {
    "id": "-Vf895KaL88N"
   },
   "outputs": [
    {
     "name": "stdout",
     "output_type": "stream",
     "text": [
      "Будівля за адресою вул. Шевченка, 1 має 12 поверхів і побудована з Brick.\n",
      "Хмарочос? True\n",
      "Будівля за адресою вул. Лесі Українки, 5 має 3 поверхів і побудована з Concrete.\n",
      "Хмарочос? False\n"
     ]
    }
   ],
   "source": [
    "class Building:\n",
    "    def __init__(self, address, floors, material=\"Brick\"):\n",
    "        self.address = address\n",
    "        self.floors = floors\n",
    "        self.material = material\n",
    "\n",
    "    def info(self):\n",
    "        return f\"Будівля за адресою {self.address} має {self.floors} поверхів і побудована з {self.material}.\"\n",
    "\n",
    "    def is_skyscraper(self):\n",
    "        return self.floors >= 10\n",
    "\n",
    "building1 = Building(\"вул. Шевченка, 1\", 12)\n",
    "building2 = Building(\"вул. Лесі Українки, 5\", 3, material=\"Concrete\")\n",
    "\n",
    "print(building1.info())\n",
    "print(\"Хмарочос?\", building1.is_skyscraper())\n",
    "\n",
    "print(building2.info())\n",
    "print(\"Хмарочос?\", building2.is_skyscraper())\n"
   ]
  },
  {
   "cell_type": "markdown",
   "metadata": {
    "id": "X_UlOMB0L93w"
   },
   "source": [
    "2. (2б). Створіть два обʼєкти цього класу, де один з обʼєктів створюється із дефолтним значенням атрибуту. На одному обʼєкті отримайте значення його атрибуту, а на іншому викличте один з його методів."
   ]
  },
  {
   "cell_type": "code",
   "execution_count": 3,
   "metadata": {
    "id": "7gBu0ESOMCpG"
   },
   "outputs": [
    {
     "name": "stdout",
     "output_type": "stream",
     "text": [
      "Brick\n",
      "Будівля за адресою вул. Лесі Українки, 5 має 3 поверхів і побудована з Concrete.\n"
     ]
    }
   ],
   "source": [
    "b1 = Building(\"вул. Шевченка, 1\", 12)\n",
    "b2 = Building(\"вул. Лесі Українки, 5\", 3, material=\"Concrete\")\n",
    "\n",
    "print(b1.material)\n",
    "print(b2.info())\n"
   ]
  },
  {
   "cell_type": "markdown",
   "metadata": {
    "id": "HoqSCZt1MHn5"
   },
   "source": [
    "3. (5б). Створіть клас, де атрибути мають різні рівні доступу. Спробуйте отримати їхні значення та опишіть результати."
   ]
  },
  {
   "cell_type": "code",
   "execution_count": 4,
   "metadata": {
    "id": "r9b3vJxBMSPV"
   },
   "outputs": [
    {
     "name": "stdout",
     "output_type": "stream",
     "text": [
      "Public: публічний\n",
      "Protected: захищений\n",
      "Private: 'AccessExample' object has no attribute '__private_attr'\n",
      "Private (via method): приватний\n",
      "Private (via name mangling): приватний\n"
     ]
    }
   ],
   "source": [
    "class AccessExample:\n",
    "    def __init__(self, pub, prot, priv):\n",
    "        self.public_attr = pub\n",
    "        self._protected_attr = prot\n",
    "        self.__private_attr = priv\n",
    "\n",
    "    def get_private(self):\n",
    "        return self.__private_attr\n",
    "\n",
    "obj = AccessExample(\"публічний\", \"захищений\", \"приватний\")\n",
    "\n",
    "print(\"Public:\", obj.public_attr)\n",
    "print(\"Protected:\", obj._protected_attr)\n",
    "try:\n",
    "    print(\"Private:\", obj.__private_attr)\n",
    "except AttributeError as e:\n",
    "    print(\"Private:\", e)\n",
    "print(\"Private (via method):\", obj.get_private())\n",
    "print(\"Private (via name mangling):\", obj._AccessExample__private_attr)\n"
   ]
  },
  {
   "cell_type": "markdown",
   "metadata": {
    "id": "5op2m2vgMSkZ"
   },
   "source": [
    "4. (7б). Як ви розумієте термін self? Для чого використовується метод __init __?"
   ]
  },
  {
   "cell_type": "markdown",
   "metadata": {
    "id": "DyiPqNRvMasx"
   },
   "source": [
    "self – це посилання на поточний екземпляр класу. Завдяки цьому Python розрізняє атрибути та методи об'єкта від локальних змінних функції.  \n",
    "init – це спеціальний конструктор, який викликається при створенні нового об'єкта. Він використовується для ініціалізації атрибутів об'єкта та виконання початкових налаштувань."
   ]
  },
  {
   "cell_type": "markdown",
   "metadata": {
    "id": "-6X8EGfjMd2y"
   },
   "source": [
    "5. (9б). Створіть клас 3D-фігура без атрибутів, з методом get_volume для отримання об'єму фігури, що повертає 0 та __add __, який приймає self та other в якості аргументів, а повертає суму об'ємів 3d-фігур self та other."
   ]
  },
  {
   "cell_type": "code",
   "execution_count": 5,
   "metadata": {
    "id": "4rvO_wYUMaEr"
   },
   "outputs": [
    {
     "name": "stdout",
     "output_type": "stream",
     "text": [
      "0\n",
      "0\n"
     ]
    }
   ],
   "source": [
    "class Figure3D:\n",
    "    def get_volume(self):\n",
    "        return 0\n",
    "\n",
    "    def __add__(self, other):\n",
    "        if isinstance(other, Figure3D):\n",
    "            return self.get_volume() + other.get_volume()\n",
    "        raise ValueError(\"Can only add Figure3D objects\")\n",
    "\n",
    "fig1 = Figure3D()\n",
    "fig2 = Figure3D()\n",
    "\n",
    "print(fig1.get_volume())\n",
    "print(fig1 + fig2)\n"
   ]
  },
  {
   "cell_type": "markdown",
   "metadata": {
    "id": "SFcKnnv5Mo_z"
   },
   "source": [
    "6. (11б). Створіть 2 дочірніх класи від 3d-фігура: Циліндр та Куб, які мають атрибути, необхідні для розрахунку об'єму. Визначте метод get_volume в кожному з них так, щоби вони розраховували об'єм у залежності від формули для кожного типу фігури. Створіть обʼєкт класу Циліндр та обʼєкт класу Куб. Виконайте операцію суми за допомогою оператора + між ними, аби знайти сумарний об'єм."
   ]
  },
  {
   "cell_type": "code",
   "execution_count": 7,
   "metadata": {
    "id": "H3GVNr69Muf3"
   },
   "outputs": [
    {
     "name": "stdout",
     "output_type": "stream",
     "text": [
      "205.3716694115407\n"
     ]
    }
   ],
   "source": [
    "import math\n",
    "class Cylinder(Figure3D):\n",
    "    def __init__(self, radius, height):\n",
    "        self.radius = radius\n",
    "        self.height = height\n",
    "\n",
    "    def get_volume(self):\n",
    "        return math.pi * self.radius ** 2 * self.height\n",
    "\n",
    "class Cube(Figure3D):\n",
    "    def __init__(self, side):\n",
    "        self.side = side\n",
    "\n",
    "    def get_volume(self):\n",
    "        return self.side ** 3\n",
    "\n",
    "cylinder = Cylinder(3, 5)\n",
    "cube = Cube(4)\n",
    "\n",
    "total_volume = cylinder + cube\n",
    "print(total_volume)"
   ]
  },
  {
   "cell_type": "markdown",
   "metadata": {
    "id": "HCvR206YMvLK"
   },
   "source": [
    "7. (3б). Продемонструйте різницю між isinstance та issubclass."
   ]
  },
  {
   "cell_type": "code",
   "execution_count": 8,
   "metadata": {
    "id": "L_V1bBvDM0GN"
   },
   "outputs": [
    {
     "name": "stdout",
     "output_type": "stream",
     "text": [
      "isinstance(dog_instance, Animal): True\n",
      "issubclass(Dog, Animal): True\n",
      "issubclass(dog_instance, Animal) викликає помилку: issubclass() arg 1 must be a class\n"
     ]
    }
   ],
   "source": [
    "class Animal:\n",
    "    pass\n",
    "\n",
    "class Dog(Animal):\n",
    "    pass\n",
    "\n",
    "dog_instance = Dog()\n",
    "\n",
    "print(\"isinstance(dog_instance, Animal):\", isinstance(dog_instance, Animal))\n",
    "print(\"issubclass(Dog, Animal):\", issubclass(Dog, Animal))\n",
    "\n",
    "try:\n",
    "    print(\"issubclass(dog_instance, Animal):\", issubclass(dog_instance, Animal))\n",
    "except TypeError as error:\n",
    "    print(\"issubclass(dog_instance, Animal) викликає помилку:\", error)\n"
   ]
  },
  {
   "cell_type": "markdown",
   "metadata": {
    "id": "jjsaBZ-iM0Qq"
   },
   "source": [
    "8. (13б). Створіть клас EWallet з приватними атрибутами balance та id. Реалізуйте методи поповнення та зняття коштів, забезпечивши належну інкапсуляцію. Підказка: використовуйте декоратори property та setter."
   ]
  },
  {
   "cell_type": "code",
   "execution_count": 9,
   "metadata": {
    "id": "xCvZ7lh8M7YA"
   },
   "outputs": [
    {
     "name": "stdout",
     "output_type": "stream",
     "text": [
      "150\n",
      "120\n"
     ]
    }
   ],
   "source": [
    "class EWallet:\n",
    "    def __init__(self, wallet_id, balance=0):\n",
    "        self.__id = wallet_id\n",
    "        self.__balance = balance\n",
    "\n",
    "    @property\n",
    "    def balance(self):\n",
    "        return self.__balance\n",
    "\n",
    "    @balance.setter\n",
    "    def balance(self, value):\n",
    "        if value < 0:\n",
    "            raise ValueError(\"Баланс не може бути від'ємним\")\n",
    "        self.__balance = value\n",
    "\n",
    "    def deposit(self, amount):\n",
    "        if amount < 0:\n",
    "            raise ValueError(\"Сума поповнення не може бути від'ємною\")\n",
    "        self.balance += amount\n",
    "\n",
    "    def withdraw(self, amount):\n",
    "        if amount < 0:\n",
    "            raise ValueError(\"Сума зняття не може бути від'ємною\")\n",
    "        if self.balance < amount:\n",
    "            raise ValueError(\"Недостатньо коштів\")\n",
    "        self.balance -= amount\n",
    "\n",
    "wallet = EWallet(\"12345\", 100)\n",
    "wallet.deposit(50)\n",
    "print(wallet.balance)\n",
    "wallet.withdraw(30)\n",
    "print(wallet.balance)\n"
   ]
  },
  {
   "cell_type": "markdown",
   "metadata": {
    "id": "tIzL2SJTM8ft"
   },
   "source": [
    "9. (11б). Створіть клас ShoppingCart, який містить список об'єктів типу Item. Реалізуйте методи для додавання айтемів, їх видалення та відображення списку айтемів."
   ]
  },
  {
   "cell_type": "code",
   "execution_count": 10,
   "metadata": {
    "id": "HWxfJKLtNAUZ"
   },
   "outputs": [
    {
     "name": "stdout",
     "output_type": "stream",
     "text": [
      "Яблуко: 1.5\n",
      "Банан: 0.75\n",
      "Банан: 0.75\n"
     ]
    }
   ],
   "source": [
    "class Item:\n",
    "    def __init__(self, name, price):\n",
    "        self.name = name\n",
    "        self.price = price\n",
    "\n",
    "    def __str__(self):\n",
    "        return f\"{self.name}: {self.price}\"\n",
    "\n",
    "class ShoppingCart:\n",
    "    def __init__(self):\n",
    "        self.items = []\n",
    "\n",
    "    def add_item(self, item):\n",
    "        if isinstance(item, Item):\n",
    "            self.items.append(item)\n",
    "        else:\n",
    "            raise TypeError(\"Очікується об'єкт типу Item\")\n",
    "\n",
    "    def remove_item(self, item):\n",
    "        if item in self.items:\n",
    "            self.items.remove(item)\n",
    "        else:\n",
    "            print(\"Айтем не знайдено у кошику\")\n",
    "\n",
    "    def display_items(self):\n",
    "        for item in self.items:\n",
    "            print(item)\n",
    "\n",
    "cart = ShoppingCart()\n",
    "item1 = Item(\"Яблуко\", 1.50)\n",
    "item2 = Item(\"Банан\", 0.75)\n",
    "\n",
    "cart.add_item(item1)\n",
    "cart.add_item(item2)\n",
    "cart.display_items()\n",
    "\n",
    "cart.remove_item(item1)\n",
    "cart.display_items()\n"
   ]
  },
  {
   "cell_type": "markdown",
   "metadata": {
    "id": "lmV8pAwwNIqu"
   },
   "source": [
    "10. (13б). Створіть клас Vehicle з атрибутами brand (manufacturer) та production_age. Створіть ще один клас Engine з такими атрибутами, як type (ex. petrol) та size (volume, litres). Створіть клас Car, який успадковує обидва класи Vehicle та Engine. Продемонструйте використання множинної спадковості, створивши обʼєкт класу Car та отримавши mro для цього класу."
   ]
  },
  {
   "cell_type": "code",
   "execution_count": 12,
   "metadata": {
    "id": "R49grKlWNPeN"
   },
   "outputs": [
    {
     "name": "stdout",
     "output_type": "stream",
     "text": [
      "<class '__main__.Car'>\n",
      "<class '__main__.Vehicle'>\n",
      "<class '__main__.Engine'>\n",
      "<class 'object'>\n"
     ]
    }
   ],
   "source": [
    "class Vehicle:\n",
    "    def __init__(self, brand, production_age):\n",
    "        self.brand = brand\n",
    "        self.production_age = production_age\n",
    "\n",
    "class Engine:\n",
    "    def __init__(self, engine_type, size):\n",
    "        self.engine_type = engine_type\n",
    "        self.size = size\n",
    "\n",
    "class Car(Vehicle, Engine):\n",
    "    def __init__(self, brand, production_age, engine_type, size):\n",
    "        Vehicle.__init__(self, brand, production_age)\n",
    "        Engine.__init__(self, engine_type, size)\n",
    "\n",
    "car = Car(\"Toyota\", 5, \"petrol\", 2.0)\n",
    "for cls in Car.mro():\n",
    "    print(cls)\n"
   ]
  },
  {
   "cell_type": "markdown",
   "metadata": {
    "id": "dIJyUiNBFG8G"
   },
   "source": [
    "# II. Iterator"
   ]
  },
  {
   "cell_type": "markdown",
   "metadata": {
    "id": "13vsm0NyKIzL"
   },
   "source": [
    "11. (4б). Визначте рядок(str) з 4ма різними за значенням символами. Створіть ітератор на основі цього рядка. Викличте 5 разів функцію next на ітераторі, 4ри перших з них огорніть у ф-цію print()."
   ]
  },
  {
   "cell_type": "code",
   "execution_count": 15,
   "metadata": {
    "id": "81ntabAkKuz-"
   },
   "outputs": [
    {
     "name": "stdout",
     "output_type": "stream",
     "text": [
      "a\n",
      "b\n",
      "c\n",
      "d\n",
      "Ітератор вичерпано.\n"
     ]
    }
   ],
   "source": [
    "s = \"abcd\"\n",
    "it = iter(s)\n",
    "\n",
    "print(next(it))\n",
    "print(next(it))\n",
    "print(next(it))\n",
    "print(next(it))\n",
    "\n",
    "try:\n",
    "    print(next(it))\n",
    "except StopIteration:\n",
    "    print(\"Ітератор вичерпано.\")\n",
    "\n"
   ]
  },
  {
   "cell_type": "markdown",
   "metadata": {
    "id": "aekWHGXOLRsO"
   },
   "source": [
    "А що якщо викликати цю ж функцію на рядку?"
   ]
  },
  {
   "cell_type": "code",
   "execution_count": 16,
   "metadata": {
    "id": "mxATGsErLV1i"
   },
   "outputs": [
    {
     "name": "stdout",
     "output_type": "stream",
     "text": [
      "TypeError: 'str' object is not an iterator\n"
     ]
    }
   ],
   "source": [
    "s = \"abcd\"\n",
    "try:\n",
    "    next(s)\n",
    "except TypeError as e:\n",
    "    print(\"TypeError:\", e)\n"
   ]
  },
  {
   "cell_type": "markdown",
   "metadata": {
    "id": "XwtMEopwJ4pH"
   },
   "source": [
    " 12. (5б). Опишіть своїми словами в одному реченні, як ви розумієте різницю між ітерабельними обʼєктами та ітераторами (можна на прикладі)."
   ]
  },
  {
   "cell_type": "markdown",
   "metadata": {
    "id": "-sHrODc3KFn8"
   },
   "source": [
    "*місце для відповіді"
   ]
  },
  {
   "cell_type": "markdown",
   "metadata": {
    "id": "E9qJWmNbK8Gl"
   },
   "source": [
    "13. (11б). Створіть клас, що має визначений Iterator Protocol та при кожному виклику next повертає назву дня тижня, поки вони не вичерпаються. Зверніть увагу, що порядок має значення."
   ]
  },
  {
   "cell_type": "code",
   "execution_count": 1,
   "metadata": {
    "id": "cqx-g_RsLo6I"
   },
   "outputs": [
    {
     "name": "stdout",
     "output_type": "stream",
     "text": [
      "Monday\n",
      "Tuesday\n",
      "Wednesday\n",
      "Thursday\n",
      "Friday\n",
      "Saturday\n",
      "Sunday\n"
     ]
    }
   ],
   "source": [
    "class DaysOfWeekIterator:\n",
    "    def __init__(self):\n",
    "        # List of days of the week in the desired order\n",
    "        self.days = [\"Monday\", \"Tuesday\", \"Wednesday\", \"Thursday\", \"Friday\", \"Saturday\", \"Sunday\"]\n",
    "        self.index = 0\n",
    "\n",
    "    def __iter__(self):\n",
    "        return self\n",
    "\n",
    "    def __next__(self):\n",
    "        if self.index < len(self.days):\n",
    "            day = self.days[self.index]\n",
    "            self.index += 1\n",
    "            return day\n",
    "        else:\n",
    "            raise StopIteration\n",
    "\n",
    "# Example usage:\n",
    "iterator = DaysOfWeekIterator()\n",
    "for day in iterator:\n",
    "    print(day)\n"
   ]
  },
  {
   "cell_type": "markdown",
   "metadata": {
    "id": "Z3E3S_s1Fv7-"
   },
   "source": [
    "# Вітаю! Ви велика(ий) молодець, що впоралась(вся). Похваліть себе та побалуйте чимось приємним. Я Вами пишаюся."
   ]
  }
 ],
 "metadata": {
  "colab": {
   "provenance": []
  },
  "kernelspec": {
   "display_name": "Python 3 (ipykernel)",
   "language": "python",
   "name": "python3"
  },
  "language_info": {
   "codemirror_mode": {
    "name": "ipython",
    "version": 3
   },
   "file_extension": ".py",
   "mimetype": "text/x-python",
   "name": "python",
   "nbconvert_exporter": "python",
   "pygments_lexer": "ipython3",
   "version": "3.13.2"
  }
 },
 "nbformat": 4,
 "nbformat_minor": 4
}
