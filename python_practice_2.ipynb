{
 "cells": [
  {
   "cell_type": "markdown",
   "metadata": {
    "id": "p9wwt0LZzNvn"
   },
   "source": [
    "# I. Змінні та памʼять."
   ]
  },
  {
   "cell_type": "markdown",
   "metadata": {
    "id": "p9wwt0LZzNvn"
   },
   "source": [
    "Посилання на гіт: https://github.com/MarianaDek/python-for-big-data-and-data-science"
   ]
  },
  {
   "cell_type": "markdown",
   "metadata": {
    "id": "HTJrrm95xSV9"
   },
   "source": [
    "1. Створити змінні, що посилаються на два цілих числа, що однакові за значенням, де значення належить проміжку від -5 до 256. Перевірте, чи будуть ці змінні рівні тільки за значенням або ж ще будуть посилатися на один і той самий обʼєкт в памʼяті? Наведіть код та дайте текстову відповідь нижче."
   ]
  },
  {
   "cell_type": "code",
   "execution_count": 1,
   "metadata": {
    "id": "TATni2vzayjG"
   },
   "outputs": [
    {
     "name": "stdout",
     "output_type": "stream",
     "text": [
      "True\n",
      "4317296896\n",
      "4317296896\n",
      "True\n"
     ]
    }
   ],
   "source": [
    "a = 195\n",
    "b = 195\n",
    "print(a == b)\n",
    "print(id(a))\n",
    "print(id(b))\n",
    "print(id(a) == id(b))"
   ]
  },
  {
   "cell_type": "markdown",
   "metadata": {
    "id": "zfRG_o3WbRdg"
   },
   "source": [
    "У Python існує інтернування малих цілих чисел в діапазоні від -5 до 256.\n",
    "Це означає, що числа в цьому діапазоні кешуються та зберігаються в пам’яті як один об'єкт, навіть якщо ми створимо кілька змінних з таким самим значенням.\n",
    "\n",
    "Коли ми пишемо:\n",
    "a = 195\n",
    "b = 195\n",
    "Python не створює новий об'єкт у пам'яті, а просто посилається на той самий об'єкт, що був закешований."
   ]
  },
  {
   "cell_type": "markdown",
   "metadata": {
    "id": "ISORzt6M3vAt"
   },
   "source": [
    "2. За допомогою якої функції можна перевірити належність змінної до вказаного типу даних (напр. чи змінна True посилається на значення булевого та цілочисленого типу)?\n",
    "\n",
    "За допомогою функції 'isinstance()'"
   ]
  },
  {
   "cell_type": "code",
   "execution_count": 2,
   "metadata": {
    "id": "9vL9CFaMbfyo"
   },
   "outputs": [
    {
     "name": "stdout",
     "output_type": "stream",
     "text": [
      "True\n",
      "True\n",
      "True\n"
     ]
    }
   ],
   "source": [
    "print(isinstance(True, bool)) \n",
    "print(isinstance(True, int))  \n",
    "print(isinstance(5, (int, float))) "
   ]
  },
  {
   "cell_type": "markdown",
   "metadata": {
    "id": "tRxugKAxwYLw"
   },
   "source": [
    "# II. Цілі числа та числа з рухомою комою"
   ]
  },
  {
   "cell_type": "markdown",
   "metadata": {
    "id": "NLHkgd5Gybc8"
   },
   "source": [
    "3. Створити дві змінні, що посилаються на будь-які ціле число та число з рухомою комою та продемонструвати такі арифметичні операції: додавання, віднімання, ділення, множення, ділення без залишку, ділення по модулю, приведення до ступеню. Всі результати операцій вивести на екран."
   ]
  },
  {
   "cell_type": "code",
   "execution_count": 3,
   "metadata": {
    "id": "nb8u_3pjb2cA"
   },
   "outputs": [
    {
     "name": "stdout",
     "output_type": "stream",
     "text": [
      "10 + 3.5 = 13.5\n",
      "10 - 3.5 = 6.5\n",
      "10 * 3.5 = 35.0\n",
      "10 / 3.5 = 2.857142857142857\n",
      "10 // 3.5 = 2.0\n",
      "10 % 3.5 = 3.0\n",
      "10 ** 3.5 = 3162.2776601683795\n"
     ]
    }
   ],
   "source": [
    "a = 10         \n",
    "b = 3.5       \n",
    "\n",
    "addition = a + b          \n",
    "subtraction = a - b       \n",
    "multiplication = a * b    \n",
    "division = a / b           \n",
    "floor_division = a // b   \n",
    "modulo = a % b            \n",
    "power = a ** b             \n",
    "\n",
    "\n",
    "print(f\"{a} + {b} = {addition}\")\n",
    "print(f\"{a} - {b} = {subtraction}\")\n",
    "print(f\"{a} * {b} = {multiplication}\")\n",
    "print(f\"{a} / {b} = {division}\")\n",
    "print(f\"{a} // {b} = {floor_division}\")\n",
    "print(f\"{a} % {b} = {modulo}\")\n",
    "print(f\"{a} ** {b} = {power}\")\n"
   ]
  },
  {
   "cell_type": "markdown",
   "metadata": {
    "id": "1kBClKgPzZnC"
   },
   "source": [
    "4. Використовуючи змінні з вправи 3, продемонструйте механізм явного перетворення типів, де числа з рухомою комою перетворюються на цілі числа. Також визначте змінну, що посилається на значення булевого типу і спробуйте явно привести її до цілого числа."
   ]
  },
  {
   "cell_type": "code",
   "execution_count": 4,
   "metadata": {
    "id": "TbqJbkeUcKsD"
   },
   "outputs": [
    {
     "name": "stdout",
     "output_type": "stream",
     "text": [
      "Початкове число (float): 3.5, після перетворення в int: 3\n",
      "Булеве значення: True, після перетворення в int: 1\n",
      "Булеве значення: False, після перетворення в int: 0\n"
     ]
    }
   ],
   "source": [
    "a = 10     \n",
    "b = 3.5    \n",
    "\n",
    "b_to_int = int(b) \n",
    "\n",
    "bool_var = True\n",
    "\n",
    "bool_to_int = int(bool_var) \n",
    "\n",
    "print(f\"Початкове число (float): {b}, після перетворення в int: {b_to_int}\")\n",
    "print(f\"Булеве значення: {bool_var}, після перетворення в int: {bool_to_int}\")\n",
    "\n",
    "bool_var_false = False\n",
    "bool_to_int_false = int(bool_var_false)\n",
    "print(f\"Булеве значення: {bool_var_false}, після перетворення в int: {bool_to_int_false}\")\n"
   ]
  },
  {
   "cell_type": "markdown",
   "metadata": {
    "id": "EVJ7AflwxrZi"
   },
   "source": [
    "# IІІ. Рядки (String)."
   ]
  },
  {
   "cell_type": "markdown",
   "metadata": {
    "id": "_s5ECzz9zE61"
   },
   "source": [
    "5. Створити пустий рядок двома різними способами."
   ]
  },
  {
   "cell_type": "code",
   "execution_count": 5,
   "metadata": {
    "id": "fkZJHu9Scvc-"
   },
   "outputs": [
    {
     "name": "stdout",
     "output_type": "stream",
     "text": [
      "empty_string1: '', довжина: 0\n",
      "empty_string2: '', довжина: 0\n",
      "True\n"
     ]
    }
   ],
   "source": [
    "empty_string1 = \"\"\n",
    "empty_string2 = str()\n",
    "\n",
    "print(f\"empty_string1: '{empty_string1}', довжина: {len(empty_string1)}\")\n",
    "print(f\"empty_string2: '{empty_string2}', довжина: {len(empty_string2)}\")\n",
    "\n",
    "print(empty_string1 == empty_string2) \n"
   ]
  },
  {
   "cell_type": "markdown",
   "metadata": {
    "id": "4Bdn9J3MzLf_"
   },
   "source": [
    "6. Створити рядок з апострофом. Зробити його сирим. Вивести обидва рядка на екран."
   ]
  },
  {
   "cell_type": "code",
   "execution_count": 6,
   "metadata": {
    "id": "ivji_hsmc0GH"
   },
   "outputs": [
    {
     "name": "stdout",
     "output_type": "stream",
     "text": [
      "Звичайний рядок: I'm learning Python\n",
      "Сирий рядок: I'm learning Python\n"
     ]
    }
   ],
   "source": [
    "string_with_apostrophe = \"I'm learning Python\"\n",
    "\n",
    "raw_string_with_apostrophe = r\"I'm learning Python\"\n",
    "\n",
    "print(\"Звичайний рядок:\", string_with_apostrophe)\n",
    "print(\"Сирий рядок:\", raw_string_with_apostrophe)\n"
   ]
  },
  {
   "cell_type": "markdown",
   "metadata": {
    "id": "bg_d8wM4z8dS"
   },
   "source": [
    "7. Створити змінну, що буде посилатися на Ваше прізвище латинкою. Створити форматований рядок, який буде мати вигляд \"My surname is ______\", де на місці нижніх підкреслень буде Ваше прізвище зі змінної."
   ]
  },
  {
   "cell_type": "code",
   "execution_count": 7,
   "metadata": {
    "id": "kuxFgpWndACq"
   },
   "outputs": [
    {
     "name": "stdout",
     "output_type": "stream",
     "text": [
      "My surname is Dekhtiarenko\n"
     ]
    }
   ],
   "source": [
    "surname = \"Dekhtiarenko\"\n",
    "\n",
    "formatted_string = f\"My surname is {surname}\"\n",
    "\n",
    "print(formatted_string)\n"
   ]
  },
  {
   "cell_type": "markdown",
   "metadata": {
    "id": "1Nc6RqvQ0hxU"
   },
   "source": [
    "8. Маючи рядок \"My dog is crazy.\" перетворити його на список [\"my\", \"dog\", \"is\", \"crazy\"]"
   ]
  },
  {
   "cell_type": "code",
   "execution_count": 8,
   "metadata": {
    "id": "w1Ya4RqedUhw"
   },
   "outputs": [
    {
     "name": "stdout",
     "output_type": "stream",
     "text": [
      "['my', 'dog', 'is', 'crazy']\n"
     ]
    }
   ],
   "source": [
    "sentence = \"My dog is crazy.\"\n",
    "words_list = sentence[:-1].lower().split()\n",
    "print(words_list)\n"
   ]
  },
  {
   "cell_type": "markdown",
   "metadata": {
    "id": "GYVqN9uP1D4n"
   },
   "source": [
    "# IV. Робота зі списками."
   ]
  },
  {
   "cell_type": "markdown",
   "metadata": {
    "id": "7-DeDunw2sO-"
   },
   "source": [
    "9. Створити список двома різними за синтаксисом способами. За допомогою вбудованої функції обчисліть довжину одного з них."
   ]
  },
  {
   "cell_type": "code",
   "execution_count": 9,
   "metadata": {
    "id": "zxg06Uuxdyoh"
   },
   "outputs": [
    {
     "name": "stdout",
     "output_type": "stream",
     "text": [
      "Список 1: [1, 2, 3, 4, 5]\n",
      "Список 2: [6, 7, 8, 9, 10]\n",
      "Довжина першого списку: 5\n"
     ]
    }
   ],
   "source": [
    "list1 = [1, 2, 3, 4, 5]\n",
    "list2 = list((6, 7, 8, 9, 10))\n",
    "\n",
    "length_list1 = len(list1)\n",
    "\n",
    "\n",
    "print(\"Список 1:\", list1)\n",
    "print(\"Список 2:\", list2)\n",
    "print(\"Довжина першого списку:\", length_list1)\n"
   ]
  },
  {
   "cell_type": "markdown",
   "metadata": {
    "id": "8vmGUTjL22gI"
   },
   "source": [
    "10. Створіть два списка та за допомогою спеціального методу додайте другий з них в якості останнього елемента першого."
   ]
  },
  {
   "cell_type": "code",
   "execution_count": 10,
   "metadata": {
    "id": "uHtjWYw7d7hm"
   },
   "outputs": [
    {
     "name": "stdout",
     "output_type": "stream",
     "text": [
      "[1, 2, 3, [4, 5, 6]]\n"
     ]
    }
   ],
   "source": [
    "list1 = [1, 2, 3]\n",
    "list2 = [4, 5, 6]\n",
    "\n",
    "list1.append(list2)\n",
    "\n",
    "print(list1)\n"
   ]
  },
  {
   "cell_type": "markdown",
   "metadata": {
    "id": "JC3BkD-67_--"
   },
   "source": [
    "11. Створіть список, де елементами цього списку також є списки. Отримай перший елемент з останнього рядка та виведи значення на екран."
   ]
  },
  {
   "cell_type": "code",
   "execution_count": 11,
   "metadata": {
    "id": "Kz2jZHsGeLlz"
   },
   "outputs": [
    {
     "name": "stdout",
     "output_type": "stream",
     "text": [
      "Перший елемент останнього рядка: 7\n"
     ]
    }
   ],
   "source": [
    "nested_list = [\n",
    "    [1, 2, 3],\n",
    "    [4, 5, 6],\n",
    "    [7, 8, 9] \n",
    "]\n",
    "\n",
    "first_element_last_row = nested_list[-1][0]\n",
    "\n",
    "\n",
    "print(\"Перший елемент останнього рядка:\", first_element_last_row)\n"
   ]
  },
  {
   "cell_type": "markdown",
   "metadata": {
    "id": "JA47PKTv8zFK"
   },
   "source": [
    "12. Створіть список з десяти елементів різного типу. Отримайте всі елементи, окрім двох перших та двох останніх та збережіть їх в новій змінній."
   ]
  },
  {
   "cell_type": "code",
   "execution_count": 12,
   "metadata": {
    "id": "_rHdUR-ueP4-"
   },
   "outputs": [
    {
     "name": "stdout",
     "output_type": "stream",
     "text": [
      "Оригінальний список: [1, 'hello', 3.14, True, [5, 6], {'key': 'value'}, None, 8, 9.5, 'end']\n",
      "Новий список: [3.14, True, [5, 6], {'key': 'value'}, None, 8]\n"
     ]
    }
   ],
   "source": [
    "mixed_list = [1, \"hello\", 3.14, True, [5, 6], {\"key\": \"value\"}, None, 8, 9.5, \"end\"]\n",
    "\n",
    "sliced_list = mixed_list[2:-2]\n",
    "\n",
    "\n",
    "print(\"Оригінальний список:\", mixed_list)\n",
    "print(\"Новий список:\", sliced_list)\n"
   ]
  },
  {
   "cell_type": "markdown",
   "metadata": {
    "id": "pCjR1dJb1Qbi"
   },
   "source": [
    "# V. Робота з кортежами."
   ]
  },
  {
   "cell_type": "markdown",
   "metadata": {
    "id": "fAZCxAX06R_k"
   },
   "source": [
    "14. Створити кортеж з один елементом."
   ]
  },
  {
   "cell_type": "code",
   "execution_count": 13,
   "metadata": {
    "id": "H7d82WkQev3e"
   },
   "outputs": [
    {
     "name": "stdout",
     "output_type": "stream",
     "text": [
      "<class 'tuple'>\n",
      "(42,)\n"
     ]
    }
   ],
   "source": [
    "single_element_tuple = (42,)  \n",
    "print(type(single_element_tuple))  \n",
    "print(single_element_tuple)        \n"
   ]
  },
  {
   "cell_type": "markdown",
   "metadata": {
    "id": "8LCtYcmI6w1M"
   },
   "source": [
    "15. Порівняйте список та кортеж. Назвіть схожості та відмінності, випадки використання."
   ]
  },
  {
   "cell_type": "markdown",
   "metadata": {
    "id": "fUsN1Hnue0C6"
   },
   "source": [
    "Як списки, так і кортежі є упорядкованими колекціями елементів, що означає, що елементи зберігаються в тому ж порядку, в якому були додані. Обидва типи підтримують доступ до елементів за допомогою індексів та зрізів, а також можуть ітеруватися у циклах.\n",
    "\n",
    "Основні відмінності \n",
    "\n",
    "Головна різниця між списками та кортежами полягає в їх змінності:\n",
    "\n",
    "Списки є змінними (mutable) – їх можна змінювати після створення: додавати нові елементи, змінювати існуючі або видаляти.\n",
    "Кортежі є незмінними (immutable) – їх не можна змінювати після створення. Єдиний спосіб модифікувати кортеж – створити новий.\n",
    "\n",
    "Списки створюються за допомогою квадратних дужок `[ ]`, а кортежі – за допомогою круглих дужок `( )`.  \n",
    "\n",
    "Додаткові переваги кортежів:\n",
    "\n",
    "Менше пам'яті: оскільки кортежі незмінні, вони займають менше оперативної пам'яті.\n",
    "Швидкість роботи: операції з кортежами виконуються швидше, ніж зі списками.\n",
    "Безпека: коли важливо, щоб дані не змінювалися, кортежі є кращим вибором.\n",
    "\n",
    "Висновок\n",
    "Якщо потрібно часто змінювати дані, краще використовувати список.  \n",
    "Якщо дані повинні залишатися незмінними, більш оптимальним варіантом буде кортеж.  \n",
    "Кортежі широко застосовуються для передачі аргументів у функції, як ключі у словниках, а також у випадках, коли важлива продуктивність. Списки ж є більш універсальним типом даних, який використовується для гнучких послідовностей, що можуть змінюватися під час виконання програми. "
   ]
  },
  {
   "cell_type": "markdown",
   "metadata": {
    "id": "m0xrwFijAmDD"
   },
   "source": [
    "16. Створіть кортеж з 11ти елементів чисел з рухомою комою та отримайте кожен парний за індексом елемент в зворотньому порядку. Наприклад, маючи (1.2, 2.3, 3.3, 4.3, 5.3, 6.3, 7.3, 8.3, 9.3, 0.3), отримати (0.3, 8.3, 6.3, 4.3, 2.3). Результат збережіть в нову змінну та виведіть на екран."
   ]
  },
  {
   "cell_type": "code",
   "execution_count": 14,
   "metadata": {
    "id": "p-5DAH6XfAGA"
   },
   "outputs": [
    {
     "name": "stdout",
     "output_type": "stream",
     "text": [
      "Оригінальний кортеж: (1.1, 2.2, 3.3, 4.4, 5.5, 6.6, 7.7, 8.8, 9.9, 10.1, 11.11)\n",
      "Парні за індексом у зворотному порядку: (11.11, 9.9, 7.7, 5.5, 3.3, 1.1)\n"
     ]
    }
   ],
   "source": [
    "float_tuple = (1.1, 2.2, 3.3, 4.4, 5.5, 6.6, 7.7, 8.8, 9.9, 10.10, 11.11)\n",
    "\n",
    "even_index_reversed = float_tuple[::2][::-1]\n",
    "\n",
    "print(\"Оригінальний кортеж:\", float_tuple)\n",
    "print(\"Парні за індексом у зворотному порядку:\", even_index_reversed)\n"
   ]
  },
  {
   "cell_type": "markdown",
   "metadata": {
    "id": "rW_I9dt3x6cW"
   },
   "source": [
    "# VI. Множини (Set)."
   ]
  },
  {
   "cell_type": "markdown",
   "metadata": {
    "id": "zNjRLHLw1Bgg"
   },
   "source": [
    "17. Створити множину без елементів. Після цого за допомогою методу додайте кілька різних елементів до множини. Чи множини є змінним типом даних?"
   ]
  },
  {
   "cell_type": "code",
   "execution_count": 15,
   "metadata": {
    "id": "KOv7zc2Kfo4N"
   },
   "outputs": [
    {
     "name": "stdout",
     "output_type": "stream",
     "text": [
      "Множина після додавання елементів: {3.14, True, 10, 'hello'}\n",
      "Множина після додавання нового елемента: {True, 3.14, 10, 42, 'hello'}\n",
      "Множина після повторного додавання 10: {True, 3.14, 10, 42, 'hello'}\n"
     ]
    }
   ],
   "source": [
    "my_set = set() \n",
    "\n",
    "my_set.add(10)\n",
    "my_set.add(\"hello\")\n",
    "my_set.add(3.14)\n",
    "my_set.add(True)\n",
    "\n",
    "print(\"Множина після додавання елементів:\", my_set)\n",
    "\n",
    "my_set.add(42)\n",
    "print(\"Множина після додавання нового елемента:\", my_set)\n",
    "\n",
    "my_set.add(10)  \n",
    "print(\"Множина після повторного додавання 10:\", my_set)\n"
   ]
  },
  {
   "cell_type": "markdown",
   "metadata": {
    "id": "vxS6dVYiftZQ"
   },
   "source": [
    "Множини є змінними типом даних в Python. Множини можна змінювати, додавати до них нові елементи, видаляти елементи і т д."
   ]
  },
  {
   "cell_type": "markdown",
   "metadata": {
    "id": "gHpT0Zw_1HEF"
   },
   "source": [
    "18. Створити множину, маючи список my_list = [1, 1, 2, 67, 67, 8, 9]. Пояснити, чому \"зникли\" деякі елементи."
   ]
  },
  {
   "cell_type": "code",
   "execution_count": 16,
   "metadata": {
    "id": "qCN4uvJ_fxmu"
   },
   "outputs": [
    {
     "name": "stdout",
     "output_type": "stream",
     "text": [
      "Початковий список: [1, 1, 2, 39, 67, 39, 8, 9, 7, 6, 6, 5]\n",
      "Множина: {1, 2, 67, 5, 6, 39, 8, 9, 7}\n"
     ]
    }
   ],
   "source": [
    "\n",
    "my_list = [1, 1, 2, 39, 67, 39, 8, 9, 7, 6, 6, 5]\n",
    "\n",
    "my_set = set(my_list)\n",
    "\n",
    "print(\"Початковий список:\", my_list)\n",
    "print(\"Множина:\", my_set)\n"
   ]
  },
  {
   "cell_type": "markdown",
   "metadata": {
    "id": "tFNc1e20fyny"
   },
   "source": [
    "Множина у Python автоматично зберігає тільки унікальні значення.\n",
    "Коли ми перетворюємо список у множину, дублікати видаляються."
   ]
  },
  {
   "cell_type": "markdown",
   "metadata": {
    "id": "SRMkGizS1UwY"
   },
   "source": [
    "19. Створіть дві множини. Продемонстуйте над ними операції: обʼєднання, різниці, пересічі та симетричної різниці. Використовуйте методи, що не змінюють множини, а створюють нові."
   ]
  },
  {
   "cell_type": "code",
   "execution_count": 17,
   "metadata": {
    "id": "h0T-VuDnf3Ri"
   },
   "outputs": [
    {
     "name": "stdout",
     "output_type": "stream",
     "text": [
      "Множина 1: {1, 2, 3, 4, 5}\n",
      "Множина 2: {4, 5, 6, 7, 8}\n",
      "\n",
      "Об'єднання: {1, 2, 3, 4, 5, 6, 7, 8}\n",
      "Різниця set1 - set2: {1, 2, 3}\n",
      "Різниця set2 - set1: {8, 6, 7}\n",
      "Перетин: {4, 5}\n",
      "Симетрична різниця: {1, 2, 3, 6, 7, 8}\n"
     ]
    }
   ],
   "source": [
    "set1 = {1, 2, 3, 4, 5}\n",
    "set2 = {4, 5, 6, 7, 8}\n",
    "\n",
    "union_set = set1.union(set2)\n",
    "\n",
    "difference_set1 = set1.difference(set2)  \n",
    "difference_set2 = set2.difference(set1)\n",
    "\n",
    "intersection_set = set1.intersection(set2)\n",
    "\n",
    "symmetric_difference_set = set1.symmetric_difference(set2)\n",
    "\n",
    "print(\"Множина 1:\", set1)\n",
    "print(\"Множина 2:\", set2)\n",
    "print(\"\\nОб'єднання:\", union_set)\n",
    "print(\"Різниця set1 - set2:\", difference_set1)\n",
    "print(\"Різниця set2 - set1:\", difference_set2)\n",
    "print(\"Перетин:\", intersection_set)\n",
    "print(\"Симетрична різниця:\", symmetric_difference_set)\n"
   ]
  },
  {
   "cell_type": "markdown",
   "metadata": {
    "id": "kWc8gkzTx7Ea"
   },
   "source": [
    "# VII. Словники (Dictionary)."
   ]
  },
  {
   "cell_type": "markdown",
   "metadata": {
    "id": "i5FLwj-B2ybQ"
   },
   "source": [
    "20. Створіть пустий словник. До нього додайте чотири пари елементів такі, щоб їхні ключі були різних типів. Чи може список бути ключем? Чому?"
   ]
  },
  {
   "cell_type": "code",
   "execution_count": 18,
   "metadata": {
    "id": "hxgv3BzrgLAV"
   },
   "outputs": [
    {
     "name": "stdout",
     "output_type": "stream",
     "text": [
      "Словник: {'name': 'Alice', 42: 'The Answer', 3.14: 'Pi', (1, 2, 3): 'Tuple key'}\n"
     ]
    }
   ],
   "source": [
    "my_dict = {}\n",
    "\n",
    "my_dict[\"name\"] = \"Alice\"       \n",
    "my_dict[42] = \"The Answer\"      \n",
    "my_dict[3.14] = \"Pi\"            \n",
    "my_dict[(1, 2, 3)] = \"Tuple key\" \n",
    "\n",
    "print(\"Словник:\", my_dict)\n"
   ]
  },
  {
   "cell_type": "markdown",
   "metadata": {
    "id": "zwa7UVN-gR3m"
   },
   "source": [
    "Ні, список не може бути ключем, тому що словники в Python працюють тільки з хешованими ключами.\n",
    "\n",
    "Список – змінний (mutable) тип, що означає, що його вміст можна змінювати.\n",
    "Оскільки Python використовує хешування (hash()) для оптимізації доступу до ключів, змінні об'єкти, які можуть змінюватися після створення, не можна хешувати, а отже, вони не можуть бути ключами у словнику.\n"
   ]
  },
  {
   "cell_type": "markdown",
   "metadata": {
    "id": "WM_pMlJsgoNf"
   },
   "source": [
    "21. Створіть словник, де значенням в одній з пар теж буде словник, який теж має вкладений словник. Виведіть на екран значення, що міститься в словнику, що знаходиться на найнижчому рівні ієрархії вкладеності (найбільш внутрішній)."
   ]
  },
  {
   "cell_type": "code",
   "execution_count": 19,
   "metadata": {
    "id": "60dlP7IHhAy4"
   },
   "outputs": [
    {
     "name": "stdout",
     "output_type": "stream",
     "text": [
      "Найглибше значення: Deepest value\n"
     ]
    }
   ],
   "source": [
    "nested_dict = {\n",
    "    \"level_1\": {\n",
    "        \"level_2\": {\n",
    "            \"level_3\": \"Deepest value\"  # Найглибший рівень\n",
    "        }\n",
    "    }\n",
    "}\n",
    "\n",
    "deepest_value = nested_dict[\"level_1\"][\"level_2\"][\"level_3\"]\n",
    "\n",
    "print(\"Найглибше значення:\", deepest_value)\n"
   ]
  },
  {
   "cell_type": "markdown",
   "metadata": {
    "id": "xOZP0hkx6cCr"
   },
   "source": [
    "# Вітаю! Ви велика(ий) молодець, що впоралась(вся). Похваліть себе та побалуйте чимось приємним. Я Вами пишаюся."
   ]
  }
 ],
 "metadata": {
  "colab": {
   "provenance": []
  },
  "kernelspec": {
   "display_name": "Python 3 (ipykernel)",
   "language": "python",
   "name": "python3"
  },
  "language_info": {
   "codemirror_mode": {
    "name": "ipython",
    "version": 3
   },
   "file_extension": ".py",
   "mimetype": "text/x-python",
   "name": "python",
   "nbconvert_exporter": "python",
   "pygments_lexer": "ipython3",
   "version": "3.13.2"
  }
 },
 "nbformat": 4,
 "nbformat_minor": 4
}
